{
 "cells": [
  {
   "cell_type": "code",
   "execution_count": null,
   "metadata": {
    "collapsed": false
   },
   "outputs": [],
   "source": [
    "import csv\n",
    "import numpy as np\n",
    "import cv2\n",
    "\n",
    "import keras\n",
    "import keras.models as models\n",
    "\n",
    "from keras.models import Sequential, Model\n",
    "from keras.layers.core import Dense, Dropout, Activation, Flatten, Reshape\n",
    "from keras.layers import BatchNormalization,Input, Lambda\n",
    "from keras.layers.recurrent import SimpleRNN, LSTM\n",
    "from keras.layers.convolutional import Convolution2D\n",
    "from keras.optimizers import SGD, Adam, RMSprop\n",
    "from keras.callbacks import EarlyStopping\n",
    "\n",
    "import sklearn.metrics as metrics\n",
    "\n",
    "import json"
   ]
  },
  {
   "cell_type": "code",
   "execution_count": null,
   "metadata": {
    "collapsed": false
   },
   "outputs": [],
   "source": [
    "target_im_wide = 200\n",
    "target_im_height = 66\n",
    "num_imgs = 8036*4 # *4 because flip, left, and right\n",
    "\n",
    "steer_ofst = 0.5\n",
    "\n",
    "prefix = '.\\\\data\\\\'\n",
    "steer_angle = np.ndarray(num_imgs, dtype=np.double)\n",
    "imgs = np.ndarray((num_imgs, target_im_height, target_im_wide, 3), dtype=np.uint8)\n",
    "\n",
    "def getimage(fn_img):\n",
    "    img = cv2.imread(fn_img)\n",
    "    img = cv2.cvtColor(img, cv2.COLOR_BGR2YUV)\n",
    "    #might want to take a specific ROI here too\n",
    "    img = cv2.resize(img, (target_im_wide, target_im_height)) \n",
    "    return img\n",
    "\n",
    "with open('.\\data\\driving_log.csv', 'r') as csvfile:\n",
    "    i=0\n",
    "    reader = csv.DictReader(csvfile)\n",
    "    for row in reader:\n",
    "        # original image and data\n",
    "        steer_angle[i] = float(row['steering'])\n",
    "        imgs[i] = getimage(prefix + row['center'])\n",
    "        i+=1\n",
    "        \n",
    "        # flipped image and data\n",
    "        steer_angle[i] = -1.0 * float(row['steering'])\n",
    "        imgs[i] = cv2.flip(getimage(prefix + row['center']), 1)\n",
    "        i+=1\n",
    "        \n",
    "        # left image (**assumes left steer is positive)\n",
    "        steer_angle[i] = float(row['steering']) + steer_ofst\n",
    "        fn_img=prefix + row['left']\n",
    "        fn_img = fn_img.replace(\" \", \"\") #poorly formatted Udacity data\n",
    "        imgs[i] = getimage(fn_img)\n",
    "        i+=1 \n",
    "        \n",
    "        # right image (**assumes left steer is positive)\n",
    "        steer_angle[i] = float(row['steering']) - steer_ofst\n",
    "        fn_img=prefix + row['right']\n",
    "        fn_img = fn_img.replace(\" \", \"\") #poorly formatted Udacity data\n",
    "        imgs[i] = getimage(fn_img)\n",
    "        i+=1\n",
    "\n",
    "#imgs_swap = np.moveaxis(imgs, -1, 1)\n",
    "print(steer_angle.shape)  # steering angles are already normalized\n",
    "#print(imgs_swap.shape)\n",
    "print(imgs.shape)"
   ]
  },
  {
   "cell_type": "code",
   "execution_count": null,
   "metadata": {
    "collapsed": false,
    "scrolled": false
   },
   "outputs": [],
   "source": [
    "# model start here\n",
    "model = Sequential()\n",
    "model.add(Lambda(lambda x: x / 255.0 - 0.5,\n",
    "                 input_shape=(target_im_height, target_im_wide,3)))\n",
    "#model.add(BatchNormalization(epsilon=0.001,\n",
    "#                             mode=2,\n",
    "#                             axis=1))\n",
    "model.add(Convolution2D(24,5,5,\n",
    "                        border_mode='valid', \n",
    "                        activation='relu', \n",
    "                        subsample=(2,2)))\n",
    "model.add(Convolution2D(36,5,5,\n",
    "                        border_mode='valid', \n",
    "                        activation='relu', \n",
    "                        subsample=(2,2)))\n",
    "model.add(Convolution2D(48,5,5,\n",
    "                        border_mode='valid',\n",
    "                        activation='relu',\n",
    "                        subsample=(2,2)))\n",
    "model.add(Convolution2D(64,3,3,\n",
    "                        border_mode='valid', \n",
    "                        activation='relu', \n",
    "                        subsample=(1,1)))\n",
    "model.add(Convolution2D(64,3,3,\n",
    "                        border_mode='valid', \n",
    "                        activation='relu', \n",
    "                        subsample=(1,1)))\n",
    "model.add(Flatten())\n",
    "model.add(Dense(1164, activation='relu'))\n",
    "model.add(Dense(100, activation='relu'))\n",
    "model.add(Dense(50, activation='relu'))\n",
    "model.add(Dense(10, activation='relu'))\n",
    "model.add(Dense(1, activation='tanh'))\n",
    "model.summary()"
   ]
  },
  {
   "cell_type": "code",
   "execution_count": null,
   "metadata": {
    "collapsed": false
   },
   "outputs": [],
   "source": [
    "model.compile(loss='mse', \n",
    "              optimizer='adam', \n",
    "              metrics=['accuracy'])\n",
    "early_stopping = EarlyStopping(monitor='val_loss', patience=2)\n",
    "#model.fit(imgs_swap, steer_angle, nb_epoch=10, batch_size=32, validation_split=0.2, callbacks=[early_stopping])\n",
    "model.fit(imgs, steer_angle, nb_epoch=10, validation_split=0.2, callbacks=[early_stopping])"
   ]
  },
  {
   "cell_type": "code",
   "execution_count": null,
   "metadata": {
    "collapsed": false
   },
   "outputs": [],
   "source": [
    "import matplotlib.pyplot as plt\n",
    "%matplotlib inline\n",
    "\n",
    "plt.imshow(cv2.cvtColor(imgs[0].squeeze(),cv2.COLOR_YUV2RGB))"
   ]
  },
  {
   "cell_type": "code",
   "execution_count": null,
   "metadata": {
    "collapsed": false
   },
   "outputs": [],
   "source": [
    "model.save('model.h5')\n",
    "# Save model to JSON\n",
    "with open('autopilot_basic_model.json', 'w') as outfile:\n",
    "    outfile.write(json.dumps(json.loads(model.to_json()), indent=2))"
   ]
  },
  {
   "cell_type": "code",
   "execution_count": null,
   "metadata": {
    "collapsed": true
   },
   "outputs": [],
   "source": []
  }
 ],
 "metadata": {
  "anaconda-cloud": {},
  "kernelspec": {
   "display_name": "Python 3",
   "language": "python",
   "name": "python3"
  },
  "language_info": {
   "codemirror_mode": {
    "name": "ipython",
    "version": 3
   },
   "file_extension": ".py",
   "mimetype": "text/x-python",
   "name": "python",
   "nbconvert_exporter": "python",
   "pygments_lexer": "ipython3",
   "version": "3.5.2"
  },
  "widgets": {
   "state": {},
   "version": "1.1.2"
  }
 },
 "nbformat": 4,
 "nbformat_minor": 1
}
